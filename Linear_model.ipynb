{
  "nbformat": 4,
  "nbformat_minor": 0,
  "metadata": {
    "colab": {
      "name": "Linear_model.ipynb",
      "provenance": [],
      "collapsed_sections": []
    },
    "kernelspec": {
      "name": "python3",
      "display_name": "Python 3"
    }
  },
  "cells": [
    {
      "cell_type": "markdown",
      "metadata": {
        "id": "SbhJnhZ8wv45",
        "colab_type": "text"
      },
      "source": [
        "#1. Importing Modules\n"
      ]
    },
    {
      "cell_type": "code",
      "metadata": {
        "id": "i5_T2nM0wI7I",
        "colab_type": "code",
        "colab": {}
      },
      "source": [
        "from sklearn import datasets\n",
        "from sklearn import linear_model\n",
        "from  sklearn.model_selection import train_test_split\n",
        "from sklearn import metrics\n",
        "import matplotlib.pyplot as plt"
      ],
      "execution_count": 14,
      "outputs": []
    },
    {
      "cell_type": "markdown",
      "metadata": {
        "id": "f1GhG2T41BTz",
        "colab_type": "text"
      },
      "source": [
        "#2. Loading data from the dataset into the variable named \"boston\". "
      ]
    },
    {
      "cell_type": "code",
      "metadata": {
        "id": "8SVvZrxrw1G5",
        "colab_type": "code",
        "colab": {
          "base_uri": "https://localhost:8080/",
          "height": 85
        },
        "outputId": "31fc2be0-ffc8-4998-9e38-837ecde270a8"
      },
      "source": [
        "boston = datasets.load_boston()\n",
        "x = boston.data\n",
        "y = boston.target\n",
        "\n",
        "print(\"X\")\n",
        "#print(x)\n",
        "print(x.shape)\n",
        "\n",
        "print(\"Y\")\n",
        "#print(y)\n",
        "print(y.shape)"
      ],
      "execution_count": 5,
      "outputs": [
        {
          "output_type": "stream",
          "text": [
            "X\n",
            "(506, 13)\n",
            "Y\n",
            "(506,)\n"
          ],
          "name": "stdout"
        }
      ]
    },
    {
      "cell_type": "markdown",
      "metadata": {
        "id": "gmfxbqwny0FS",
        "colab_type": "text"
      },
      "source": [
        "#3. Linear Regression Model"
      ]
    },
    {
      "cell_type": "code",
      "metadata": {
        "id": "AGZndiYcyzb9",
        "colab_type": "code",
        "colab": {}
      },
      "source": [
        "l_reg = linear_model.LinearRegression()\n",
        "\n",
        "#Training and Testing Data\n",
        "x_train, x_test, y_train, y_test = train_test_split(x,y, test_size = 0.2)\n",
        "model = l_reg.fit(x_train, y_train)\n"
      ],
      "execution_count": 11,
      "outputs": []
    },
    {
      "cell_type": "markdown",
      "metadata": {
        "id": "F4sGPZ5G1RpX",
        "colab_type": "text"
      },
      "source": [
        "#4. Predict the values.\n"
      ]
    },
    {
      "cell_type": "code",
      "metadata": {
        "id": "xhIbTnrn0TlM",
        "colab_type": "code",
        "colab": {
          "base_uri": "https://localhost:8080/",
          "height": 428
        },
        "outputId": "2f5f8f75-d738-48d3-f70c-905ea8879a70"
      },
      "source": [
        "\n",
        "predictions = model.predict(x_test)\n",
        "\n",
        "print(\"Predictions: \", predictions)\n",
        "\n",
        "print(\"R^2 values: \", l_reg.score(x,y))\n",
        "print(\"coeff:\", l_reg.coef_)\n",
        "print(\"intercept: \", l_reg.intercept_)"
      ],
      "execution_count": 18,
      "outputs": [
        {
          "output_type": "stream",
          "text": [
            "Predictions:  [ 8.45899913 20.80815641 13.99958921 21.2026028  25.98823657 23.68265422\n",
            "  8.32058251 18.27613549 31.9230425  34.96400631 24.70333555 23.74973323\n",
            " 24.48245278 22.85224    21.98041525 39.5548572  16.80737752 22.69521424\n",
            " 30.39581269 13.15283295 21.77893581 24.38753458 11.68500278 33.65805876\n",
            " 22.37261647 33.50729198 23.86546202  9.609228   21.07566801 26.24515556\n",
            " 11.75264526 21.47890706 26.94069339 19.23027989 28.50392544 20.11416141\n",
            " 19.85835848 25.02464975 40.47696629  9.36732631 16.20414608 19.40414056\n",
            " 21.42257876 45.22198704 17.3930605  36.75308551 21.81209661 24.85885705\n",
            " 15.57903845 17.13747843 19.89098299 20.53124301 18.83900351 42.60623361\n",
            " 31.02477143 38.56129934 16.33261517 21.46673894 25.8411293  28.77752669\n",
            " 24.49535987 13.26149013 27.52683498 22.08424988 28.82679289 19.5840558\n",
            " 13.29019589 19.14013037 13.45878083 22.36180384 22.82228327 19.37879037\n",
            " 13.64823694 21.20349161 15.1995903  20.06777813  9.19960769 16.14648696\n",
            " 28.13996142 15.1093031  18.77629141 20.95886089 20.82374774 23.73828663\n",
            " 18.33495862  9.33369219 24.70003256 26.10519028 25.05492919 43.63472177\n",
            " 16.07890489 18.61935667 15.61040648 11.29442464 28.66647861 33.86464064\n",
            " 20.33287766 34.29929358 21.33819904 24.22713879 26.33221654 35.84286747]\n",
            "R^2 values:  0.7365178540018481\n",
            "coeff: [-5.66093115e-02  3.78966501e-02  2.47590232e-02  3.66047479e+00\n",
            " -1.56918475e+01  4.17213845e+00 -6.05136387e-03 -1.43179217e+00\n",
            "  2.32283411e-01 -8.63732882e-03 -9.23912977e-01  1.27920398e-02\n",
            " -5.19109161e-01]\n",
            "intercept:  30.558455224720436\n"
          ],
          "name": "stdout"
        }
      ]
    }
  ]
}