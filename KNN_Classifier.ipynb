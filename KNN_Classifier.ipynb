{
  "nbformat": 4,
  "nbformat_minor": 0,
  "metadata": {
    "colab": {
      "name": "KNN_Classifier.ipynb",
      "provenance": [],
      "collapsed_sections": []
    },
    "kernelspec": {
      "name": "python3",
      "display_name": "Python 3"
    }
  },
  "cells": [
    {
      "cell_type": "markdown",
      "metadata": {
        "id": "A9vOslktNDO4",
        "colab_type": "text"
      },
      "source": [
        "#1. Importing the modules"
      ]
    },
    {
      "cell_type": "code",
      "metadata": {
        "id": "js9iPwuIMwqb",
        "colab_type": "code",
        "colab": {}
      },
      "source": [
        " import numpy as np\n",
        " import pandas as pd\n",
        " import matplotlib.pyplot as plt\n",
        " from sklearn import neighbors, metrics\n",
        " from sklearn.model_selection import train_test_split\n",
        " from sklearn.preprocessing import LabelEncoder"
      ],
      "execution_count": null,
      "outputs": []
    },
    {
      "cell_type": "markdown",
      "metadata": {
        "id": "OcBt2hJnPjtY",
        "colab_type": "text"
      },
      "source": [
        "#2. Load the car evaluation dataset.\n"
      ]
    },
    {
      "cell_type": "code",
      "metadata": {
        "id": "jCgbh0pANk3U",
        "colab_type": "code",
        "colab": {
          "base_uri": "https://localhost:8080/",
          "height": 119
        },
        "outputId": "4867c650-9776-44fc-85e3-424929d39181"
      },
      "source": [
        "url = 'https://raw.githubusercontent.com/palakgupta2712/Machine_learning/master/car.data'\n",
        "data = pd.read_csv(url)\n",
        "print(data.head())"
      ],
      "execution_count": null,
      "outputs": [
        {
          "output_type": "stream",
          "text": [
            "  buying  maint doors persons lug_boot safety  class\n",
            "0  vhigh  vhigh     2       2    small    low  unacc\n",
            "1  vhigh  vhigh     2       2    small    med  unacc\n",
            "2  vhigh  vhigh     2       2    small   high  unacc\n",
            "3  vhigh  vhigh     2       2      med    low  unacc\n",
            "4  vhigh  vhigh     2       2      med    med  unacc\n"
          ],
          "name": "stdout"
        }
      ]
    },
    {
      "cell_type": "markdown",
      "metadata": {
        "id": "uYfOE3I_U3IS",
        "colab_type": "text"
      },
      "source": [
        "#3. Features and lables"
      ]
    },
    {
      "cell_type": "code",
      "metadata": {
        "id": "1EZjZNfLU6uh",
        "colab_type": "code",
        "colab": {
          "base_uri": "https://localhost:8080/",
          "height": 238
        },
        "outputId": "eac045f8-06fb-4695-fb45-7cf5ed3c6d87"
      },
      "source": [
        "x = data.reindex(columns=['buying','maint','safety']).values\n",
        "y = data.reindex(columns=['class']).values\n",
        "\n",
        "print(x,y)"
      ],
      "execution_count": null,
      "outputs": [
        {
          "output_type": "stream",
          "text": [
            "[['vhigh' 'vhigh' 'low']\n",
            " ['vhigh' 'vhigh' 'med']\n",
            " ['vhigh' 'vhigh' 'high']\n",
            " ...\n",
            " ['low' 'low' 'low']\n",
            " ['low' 'low' 'med']\n",
            " ['low' 'low' 'high']] [['unacc']\n",
            " ['unacc']\n",
            " ['unacc']\n",
            " ...\n",
            " ['unacc']\n",
            " ['good']\n",
            " ['vgood']]\n"
          ],
          "name": "stdout"
        }
      ]
    },
    {
      "cell_type": "markdown",
      "metadata": {
        "id": "7DA7u7bilWs5",
        "colab_type": "text"
      },
      "source": [
        "#4. Translating the data into numbers.\n"
      ]
    },
    {
      "cell_type": "code",
      "metadata": {
        "id": "DFU0seGVXLHa",
        "colab_type": "code",
        "colab": {
          "base_uri": "https://localhost:8080/",
          "height": 289
        },
        "outputId": "b3423e86-6af4-41b9-cf13-b17ecc557239"
      },
      "source": [
        "#Translating the data for x \n",
        "LE = LabelEncoder()\n",
        "for i in range(len(x[0])):\n",
        "  x[:, i] = LE.fit_transform(x[:, i])\n",
        "print(\"------x------\\n\",x)\n",
        "\n",
        "\n",
        "#Translating the data for y\n",
        "LE = LabelEncoder()\n",
        "for i in range(len(y[0])):\n",
        "  y[:, i] = LE.fit_transform(y[:, i])\n",
        "print(\"------y------\\n\",y)"
      ],
      "execution_count": null,
      "outputs": [
        {
          "output_type": "stream",
          "text": [
            "------x------\n",
            " [[3 3 1]\n",
            " [3 3 2]\n",
            " [3 3 0]\n",
            " ...\n",
            " [1 1 1]\n",
            " [1 1 2]\n",
            " [1 1 0]]\n",
            "------y------\n",
            " [[2]\n",
            " [2]\n",
            " [2]\n",
            " ...\n",
            " [2]\n",
            " [1]\n",
            " [3]]\n"
          ],
          "name": "stdout"
        }
      ]
    },
    {
      "cell_type": "markdown",
      "metadata": {
        "id": "FVPVgjJSp4xn",
        "colab_type": "text"
      },
      "source": [
        "#5. Modeling KNN Classifier"
      ]
    },
    {
      "cell_type": "code",
      "metadata": {
        "id": "k0sYasrDiBBQ",
        "colab_type": "code",
        "colab": {
          "base_uri": "https://localhost:8080/",
          "height": 122
        },
        "outputId": "347ca3ab-4ef8-49e3-fcf8-7e8b314b5f85"
      },
      "source": [
        "knn = neighbors.KNeighborsClassifier(n_neighbors=25, weights='uniform')\n",
        "x_train, x_test, y_train, y_test = train_test_split(x, y, test_size = 0.2)\n",
        "y=y.astype('int') \n",
        "x=x.astype('int') \n",
        "knn.fit(x_train, y_train)\n"
      ],
      "execution_count": null,
      "outputs": [
        {
          "output_type": "stream",
          "text": [
            "/usr/local/lib/python3.6/dist-packages/ipykernel_launcher.py:5: DataConversionWarning: A column-vector y was passed when a 1d array was expected. Please change the shape of y to (n_samples, ), for example using ravel().\n",
            "  \"\"\"\n"
          ],
          "name": "stderr"
        },
        {
          "output_type": "execute_result",
          "data": {
            "text/plain": [
              "KNeighborsClassifier(algorithm='auto', leaf_size=30, metric='minkowski',\n",
              "                     metric_params=None, n_jobs=None, n_neighbors=25, p=2,\n",
              "                     weights='uniform')"
            ]
          },
          "metadata": {
            "tags": []
          },
          "execution_count": 113
        }
      ]
    },
    {
      "cell_type": "markdown",
      "metadata": {
        "id": "Mgb_wt7TqBWn",
        "colab_type": "text"
      },
      "source": [
        "#6. Predictions and Accuracy"
      ]
    },
    {
      "cell_type": "code",
      "metadata": {
        "id": "fnnUeNREiS7L",
        "colab_type": "code",
        "colab": {
          "base_uri": "https://localhost:8080/",
          "height": 204
        },
        "outputId": "c915b160-093f-46ea-cedc-432caf1e5290"
      },
      "source": [
        "prediction = knn.predict(x_test)\n",
        "accuracy = metrics.accuracy_score(y_test, prediction)\n",
        "print(\"predictions:: \", prediction)\n",
        "print(\"accuracy:: \", accuracy)"
      ],
      "execution_count": null,
      "outputs": [
        {
          "output_type": "stream",
          "text": [
            "predictions::  [2 2 3 3 2 2 2 2 2 2 2 0 2 2 2 2 2 2 2 0 0 3 0 2 0 2 2 2 0 2 2 2 0 2 2 0 2\n",
            " 2 2 0 2 2 2 0 2 0 0 2 0 2 2 3 0 0 2 2 0 2 2 0 2 1 2 2 3 2 2 2 2 3 0 0 0 2\n",
            " 2 2 2 2 2 2 2 2 0 2 2 0 1 1 2 2 2 2 2 2 2 3 2 2 2 2 2 2 2 0 2 0 2 2 0 1 2\n",
            " 2 2 2 2 2 0 2 2 2 2 1 2 2 2 2 2 2 2 2 2 1 3 2 0 2 2 0 2 2 3 0 2 2 2 2 2 3\n",
            " 2 2 1 2 2 1 2 2 2 2 2 2 2 2 1 2 1 2 2 0 2 0 0 2 2 2 2 0 0 0 2 2 2 2 2 1 0\n",
            " 1 0 2 2 0 0 1 2 2 2 2 2 2 2 2 0 2 2 0 2 0 2 2 2 2 0 2 2 2 2 2 2 1 0 2 2 2\n",
            " 2 0 2 2 2 2 2 2 0 2 2 2 2 0 2 0 2 2 3 2 0 2 2 2 2 2 2 2 2 2 0 0 2 2 2 2 2\n",
            " 0 2 2 0 2 2 1 2 2 2 2 0 2 3 2 2 2 2 0 2 3 2 2 2 2 2 2 2 0 0 2 1 2 2 0 0 0\n",
            " 0 1 0 2 2 2 0 2 2 0 2 0 2 2 2 2 2 2 2 2 2 0 0 1 2 2 2 2 2 0 2 2 2 2 0 2 0\n",
            " 2 2 2 2 2 2 0 2 2 2 2 2 2]\n",
            "accuracy::  0.7543352601156069\n"
          ],
          "name": "stdout"
        }
      ]
    },
    {
      "cell_type": "markdown",
      "metadata": {
        "id": "JCsOQnObqJZj",
        "colab_type": "text"
      },
      "source": [
        "#7. Testing our model\n"
      ]
    },
    {
      "cell_type": "code",
      "metadata": {
        "id": "UeqCafZ4j3Is",
        "colab_type": "code",
        "colab": {
          "base_uri": "https://localhost:8080/",
          "height": 51
        },
        "outputId": "b9b510a3-1896-4080-9456-3c151db23252"
      },
      "source": [
        "a = 114\n",
        "print(\"actual value\", y[a])\n",
        "print(\"predicted value\", knn.predict(x)[a])"
      ],
      "execution_count": null,
      "outputs": [
        {
          "output_type": "stream",
          "text": [
            "actual value [2]\n",
            "predicted value 2\n"
          ],
          "name": "stdout"
        }
      ]
    }
  ]
}