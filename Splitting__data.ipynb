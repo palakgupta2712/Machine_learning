{
  "nbformat": 4,
  "nbformat_minor": 0,
  "metadata": {
    "colab": {
      "name": "Splitting _data.ipynb",
      "provenance": [],
      "collapsed_sections": []
    },
    "kernelspec": {
      "name": "python3",
      "display_name": "Python 3"
    }
  },
  "cells": [
    {
      "cell_type": "markdown",
      "metadata": {
        "id": "b4-K29FrDDN7",
        "colab_type": "text"
      },
      "source": [
        "1. \n",
        "Loading the dataset - iris into a variable named as \"iris\" and then printing the values or shapes of the data.\n"
      ]
    },
    {
      "cell_type": "code",
      "metadata": {
        "id": "TXPAjKt5BWQn",
        "colab_type": "code",
        "colab": {
          "base_uri": "https://localhost:8080/",
          "height": 51
        },
        "outputId": "852c298f-c811-4136-86c3-f773412f9945"
      },
      "source": [
        "from sklearn import datasets\n",
        "import numpy as np \n",
        "\n",
        "iris = datasets.load_iris()\n",
        "\n",
        "#split the datasets into x = features(data) and y = labels(target)\n",
        "x = iris.data\n",
        "y = iris.target\n",
        "\n",
        "#print(x,y) -- This line will print the whole list of data in the form of array.\n",
        "\n",
        "print(x.shape) #(150,4)\n",
        "print(y.shape) #(150)"
      ],
      "execution_count": null,
      "outputs": [
        {
          "output_type": "stream",
          "text": [
            "(150, 4)\n",
            "(150,)\n"
          ],
          "name": "stdout"
        }
      ]
    },
    {
      "cell_type": "markdown",
      "metadata": {
        "id": "sIuuGp1BKlfk",
        "colab_type": "text"
      },
      "source": [
        "2. Spilting the data into training data(x_train, y_train) and testing data(x_test, y_test)\n"
      ]
    },
    {
      "cell_type": "code",
      "metadata": {
        "id": "2iaXkTqcCuAh",
        "colab_type": "code",
        "colab": {
          "base_uri": "https://localhost:8080/",
          "height": 85
        },
        "outputId": "09a82759-f49e-4ba3-bd20-099533240cf8"
      },
      "source": [
        "from sklearn.model_selection import train_test_split\n",
        "x_train, x_test, y_train, y_test = train_test_split(x, y, test_size=0.2)\n",
        "print(x_train.shape)\n",
        "print(x_test.shape)\n",
        "print(y_train.shape)\n",
        "print(y_test.shape)"
      ],
      "execution_count": null,
      "outputs": [
        {
          "output_type": "stream",
          "text": [
            "(120, 4)\n",
            "(30, 4)\n",
            "(120,)\n",
            "(30,)\n"
          ],
          "name": "stdout"
        }
      ]
    },
    {
      "cell_type": "code",
      "metadata": {
        "id": "U-Vf2YduCCsB",
        "colab_type": "code",
        "colab": {}
      },
      "source": [
        ""
      ],
      "execution_count": null,
      "outputs": []
    }
  ]
}